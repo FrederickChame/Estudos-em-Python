{
 "cells": [
  {
   "cell_type": "markdown",
   "metadata": {},
   "source": [
    "## Introdução ao Machine Learning - Kaggle\n",
    "\n",
    "### Importando Pacotes"
   ]
  },
  {
   "cell_type": "code",
   "execution_count": null,
   "metadata": {},
   "outputs": [],
   "source": [
    "import pandas as pd\n",
    "from sklearn.tree import DecisionTreeRegressor"
   ]
  },
  {
   "cell_type": "markdown",
   "metadata": {},
   "source": [
    "### Importando os dados"
   ]
  },
  {
   "cell_type": "code",
   "execution_count": null,
   "metadata": {},
   "outputs": [],
   "source": [
    "# colocando o arquivo numa variável para facilitar o acesso\n",
    "melbourb_file_path = 'C:/Users/Fred/OneDrive/Documentos/Datasets/archive/melb_data.csv'\n",
    "\n",
    "# lendo os dados e salvado-os em um DataFrame chamado melbourne_data\n",
    "melbourne_data = pd.read_csv(melbourb_file_path)\n",
    "\n",
    "# mostrando um sumário dos dados em melbourne_data\n",
    "melbourne_data.describe()"
   ]
  },
  {
   "cell_type": "code",
   "execution_count": null,
   "metadata": {},
   "outputs": [],
   "source": [
    "# visualizando todas as colunas da tabela\n",
    "melbourne_data.columns\n",
    "\n",
    "# removendo valores ausentes. axis = 0 linhas com valores ausentes;  axis = 1 remove colunas com valores ausentes.\n",
    "melbourne_data = melbourne_data.dropna(axis= 0)\n",
    "\n",
    "# elegendo alvo da predição. Por convenção, é nomeado como \"y\"\n",
    "y = melbourne_data.Price\n",
    "\n",
    "# elegendo características/colunas usadas para o modelo de predição\n",
    "melbourne_features = ['Rooms', 'Bathroom', 'Landsize', 'Lattitude', 'Longtitude']\n",
    "\n",
    "# Criando os dados correspondendo às características elegidas. Por convenção, esses dados são chamados X\n",
    "X = melbourne_data[melbourne_features]\n",
    "\n",
    "# verificando\n",
    "X.describe()"
   ]
  },
  {
   "cell_type": "code",
   "execution_count": null,
   "metadata": {},
   "outputs": [],
   "source": [
    "# verificando de outra maneira, mostrando algumas linhas\n",
    "X.head()"
   ]
  },
  {
   "cell_type": "markdown",
   "metadata": {},
   "source": [
    "### Treinando Modelo"
   ]
  },
  {
   "cell_type": "code",
   "execution_count": null,
   "metadata": {},
   "outputs": [],
   "source": [
    "# definindo modelo. random_state=1 garante que o mesmo algoritmo de divisão da árvore de divisão será executado, garantindo os mesmos resultados \n",
    "melbourne_model = DecisionTreeRegressor(random_state=1)\n",
    "\n",
    "# treinar modelo\n",
    "melbourne_model.fit(X, y)"
   ]
  },
  {
   "cell_type": "code",
   "execution_count": null,
   "metadata": {},
   "outputs": [],
   "source": [
    "print('Fazendo predições para as próximas 5 casas:')\n",
    "print(X.head())\n",
    "print('As predições são:')\n",
    "print(melbourne_model.predict(X.head()))"
   ]
  }
 ],
 "metadata": {
  "kernelspec": {
   "display_name": "base",
   "language": "python",
   "name": "python3"
  },
  "language_info": {
   "codemirror_mode": {
    "name": "ipython",
    "version": 3
   },
   "file_extension": ".py",
   "mimetype": "text/x-python",
   "name": "python",
   "nbconvert_exporter": "python",
   "pygments_lexer": "ipython3",
   "version": "3.9.13"
  },
  "orig_nbformat": 4
 },
 "nbformat": 4,
 "nbformat_minor": 2
}
