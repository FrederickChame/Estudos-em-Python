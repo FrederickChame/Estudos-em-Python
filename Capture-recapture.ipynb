{
 "cells": [
  {
   "cell_type": "markdown",
   "metadata": {},
   "source": [
    "# Estimando Tamanho da População - Frederick Caldas\n",
    "## Inspirado em *Introduction to Statistics: The Nonparametric Way - Gottfried E. Noether*\n",
    "### Estratégia: método *capture-recapture*"
   ]
  },
  {
   "cell_type": "markdown",
   "metadata": {},
   "source": [
    "### Carregando Libraries\n",
    "A library _random_ vai usada para extrair amostras aleatórias, neste trabalho; <br>\n",
    "Já a library _pandas_ tem o propósito de contar o número de elementos repetidos entre múltiplas extrações."
   ]
  },
  {
   "cell_type": "code",
   "execution_count": 2,
   "metadata": {},
   "outputs": [],
   "source": [
    "import random\n",
    "import pandas as pd"
   ]
  },
  {
   "cell_type": "markdown",
   "metadata": {},
   "source": [
    "### Forjando Dados e realizando amostragens\n",
    "No estudo atual, a população forjada possui 10.000 indivíduos. Nosso objetivo consiste em estimar um valor próximo aos 10 mil. <br>\n",
    "Para o fim proposto, duas amostras de 1000 e 1400 indivíduos, respectivamente, estão sendo empregadas. <br>\n",
    "<br>\n",
    "O método _capture-recapture_ tem como estratégia a comparação entre o número de observações repetidas com relação ao tamanho das amostras coletadas. <br>\n",
    "Nesse sentido, o primeiro passo é, justamente, coletar as amostras e, em seguida, verificar quantas observações foram repetidas."
   ]
  },
  {
   "cell_type": "code",
   "execution_count": 3,
   "metadata": {},
   "outputs": [
    {
     "name": "stdout",
     "output_type": "stream",
     "text": [
      "131\n"
     ]
    }
   ],
   "source": [
    "# Forjando uma população de 10.000 baleias\n",
    "baleias = [i for i in range(1,10001)]\n",
    "\n",
    "# criando objeto N com a tamanho estimado da população. Estimar o valor dessa variável é o nosso objetivo.\n",
    "N = 0\n",
    "\n",
    "# definindo tamanho das amostras a extrair\n",
    "n1 = 1000\n",
    "n2 = 1400\n",
    "tamanho_amostras = [n1, n2]\n",
    "\n",
    "# Extraindo uma amostra da população de baleias\n",
    "amostra = []\n",
    "\n",
    "for j in tamanho_amostras:\n",
    "    amostra = amostra + random.sample(baleias, k=j)\n",
    "\n",
    "# Contando quantas baleias da segunda amostra já haviam sido extraídas na primeira amostra\n",
    "amostra_pd = pd.Series(amostra)\n",
    "contagem = amostra_pd.value_counts()\n",
    "X = len(contagem[contagem > 1])\n",
    "\n",
    "if X == 0:\n",
    "    print(\"A população é muito maior do que as amostras coletadas.\")\n",
    "else:\n",
    "    print(f\"Após a segunda amostragem, foram registradas {X} extrações repetidas.\")\n"
   ]
  },
  {
   "cell_type": "markdown",
   "metadata": {},
   "source": [
    "#### Estimando valores\n",
    "Uma vez obtido o número de indivíduos da população que inicidiram em ambas as amostras realizadas, vão feitas as seguintes considerações: <br>\n",
    "A proporção *P* entre o tamanho da primeira amostra e o total da população podem ser estimada pela proporção entre o número de indivíduos repetidos na segunda amostra e o tamanho da segunda amostra. Em notação matemática temos que: <br>\n",
    "$ P = \\frac{n1}{N} $ <br>\n",
    "Estimando P por $ P = \\frac{X}{n2} $ , temos: <br>\n",
    "$ \\frac{X}{n2} = \\frac{n1}{N} $ <br>\n",
    "Isolando o valor N, obtemos que a estimativa de N é igual a: <br>\n",
    "$ N = \\frac{(n1 * n2)}{X} $"
   ]
  },
  {
   "cell_type": "code",
   "execution_count": 11,
   "metadata": {},
   "outputs": [
    {
     "name": "stdout",
     "output_type": "stream",
     "text": [
      "A proporção estimada do tamanho da primeira amostra com relação ao tamanho da população que buscamos é de 0.09.\n",
      "A população estimada é de 10687.02 baleias.\n",
      "A proporção real entre o tamanho da primeira amostra e o tamanho real da população é de 0.10.\n",
      "O tamanho real da população é de 10000 baleias.\n"
     ]
    }
   ],
   "source": [
    "# Considerando proporções observadas\n",
    "p = X/n2\n",
    "P = n1/len(baleias)\n",
    "N = (n1 * n2)/X\n",
    "\n",
    "print(f\"A proporção estimada do tamanho da primeira amostra com relação ao tamanho da população que buscamos é de {p:.2f}.\")\n",
    "print(f\"A população estimada é de {N:.2f} baleias.\")\n",
    "print(f\"A proporção real entre o tamanho da primeira amostra e o tamanho real da população é de {P:.2f}.\")\n",
    "print(f\"O tamanho real da população é de {len(baleias):.0f} baleias.\")"
   ]
  },
  {
   "cell_type": "markdown",
   "metadata": {},
   "source": [
    "### Resultados\n",
    "Seguindo a presente estratégia, sendo o tamanho real de 10.000 unidades, conseguimos obter uma estimativa de 10.687 baleias pelo método *capture-recapture*."
   ]
  }
 ],
 "metadata": {
  "kernelspec": {
   "display_name": "base",
   "language": "python",
   "name": "python3"
  },
  "language_info": {
   "codemirror_mode": {
    "name": "ipython",
    "version": 3
   },
   "file_extension": ".py",
   "mimetype": "text/x-python",
   "name": "python",
   "nbconvert_exporter": "python",
   "pygments_lexer": "ipython3",
   "version": "3.9.13"
  }
 },
 "nbformat": 4,
 "nbformat_minor": 2
}
