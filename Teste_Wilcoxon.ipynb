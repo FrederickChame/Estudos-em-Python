{
  "nbformat": 4,
  "nbformat_minor": 0,
  "metadata": {
    "colab": {
      "provenance": [],
      "gpuType": "T4",
      "authorship_tag": "ABX9TyP8fZ4ylJev5cPkx7HJ6M+p"
    },
    "kernelspec": {
      "name": "python3",
      "display_name": "Python 3"
    },
    "language_info": {
      "name": "python"
    },
    "accelerator": "GPU"
  },
  "cells": [
    {
      "cell_type": "markdown",
      "source": [
        "# Teste de Wilcoxon - Frederick Caldas\n",
        "## Baseado no livro _Introduction to Statistics: The Nonparametric Way - Gottfried E. Noether_\n",
        "### Este é um estudo cuja finalidade consiste, fundamentalmente, em fixar conhecimentos estatísticos, exercitando também a prática da programação em Python. Desta maneira, embora existam funções mais adequadas para a realização do teste, a maneira que segue abaixo é preferível para fins didáticos."
      ],
      "metadata": {
        "id": "F3F1qdWomNqq"
      }
    },
    {
      "cell_type": "markdown",
      "source": [
        "## Carregamento de _Libraries_"
      ],
      "metadata": {
        "id": "8WRjzegFoLZN"
      }
    },
    {
      "cell_type": "code",
      "execution_count": 22,
      "metadata": {
        "id": "SPBCLKEcTyvK"
      },
      "outputs": [],
      "source": [
        "import random\n",
        "import numpy as np\n",
        "import matplotlib.pyplot as plt\n",
        "import pandas as pd\n",
        "import scipy.stats as stats\n",
        "from math import sqrt"
      ]
    },
    {
      "cell_type": "markdown",
      "source": [
        "## Gerando Dados Aleatórios\n",
        "Para o presente estudo, estaremos simulando o desempenho de alunos divididos em dois grupos: <br>\n",
        "**Grupo de controle X:** Não faz cursinho <br>\n",
        "**Grupo experimental Y:** faz cursinho <br>\n",
        "Ao fim do estudo, estaremos interessados em responder se o desempenho dos alunos é afetado positivamente graças ao cursinho. Este mesmo cenário foi utilizado no livro de Noether ao longo dos capítulos 6 e 7."
      ],
      "metadata": {
        "id": "3M6yYsCGoUfu"
      }
    },
    {
      "cell_type": "code",
      "source": [
        "# Definindo parâmetros\n",
        "media1 = 5\n",
        "media2 = 6\n",
        "desvio_padrao1 = 2\n",
        "desvio_padrao2 = 2.3\n",
        "tamanho = 1000\n",
        "\n",
        "# Gerando dados aleatórios que sigam uma distribuição normal\n",
        "dados1 = np.random.normal(loc=media1, scale=desvio_padrao1, size= tamanho)\n",
        "dados2 = np.random.normal(loc=media2, scale=desvio_padrao2, size=tamanho)\n",
        "\n",
        "# Garantindo que os dados estejam no intervalo de 0 a 10\n",
        "X_grupo_controle = np.clip(dados1, 0, 10)\n",
        "Y_grupo_experimental = np.clip(dados2, 0, 10)"
      ],
      "metadata": {
        "id": "-6s9-XY1ULvu"
      },
      "execution_count": 2,
      "outputs": []
    },
    {
      "cell_type": "markdown",
      "source": [
        "### Visualizando Distribuição dos Dados\n",
        "Como o esperado pelos códigos aplicados acima, buscamos visualizar o quão conforme a uma distribuição normal aparentam estar os dados gerados aleatoriamente."
      ],
      "metadata": {
        "id": "PVY6ZnLtDtID"
      }
    },
    {
      "cell_type": "code",
      "source": [
        "# gerando figura que comportará dois plots justapostos\n",
        "fig, (ax1, ax2) = plt.subplots(1, 2, figsize=(12, 6), sharey=True)\n",
        "\n",
        "# Plotando o primeiro histograma\n",
        "ax1.hist(X_grupo_controle, bins=30, color='blue', edgecolor='k', alpha=0.7)\n",
        "ax1.set_title('Distribuição 1')\n",
        "ax1.set_xlabel('Valor')\n",
        "ax1.set_ylabel('Frequência')\n",
        "\n",
        "# Plotando o segundo histograma\n",
        "ax2.hist(Y_grupo_experimental, bins=30, color='red', edgecolor='k', alpha=0.7)\n",
        "ax2.set_title('Distribuição 2')\n",
        "ax2.set_xlabel('Valor')\n",
        "plt.show()"
      ],
      "metadata": {
        "colab": {
          "base_uri": "https://localhost:8080/",
          "height": 527
        },
        "id": "QccBa4cWUOKI",
        "outputId": "25359354-9c6b-4511-d13d-b8681b801431"
      },
      "execution_count": 3,
      "outputs": [
        {
          "output_type": "display_data",
          "data": {
            "text/plain": [
              "<Figure size 1200x600 with 2 Axes>"
            ],
            "image/png": "[encoded data removed]"
          },
          "metadata": {}
        }
      ]
    },
    {
      "cell_type": "markdown",
      "source": [
        "### Visualizando tabela de dados\n",
        "Em seguida, podemos converter os dados em formato de DataFrame, facilitando assim manipulações posteriores.\n"
      ],
      "metadata": {
        "id": "uor2It0ZEnKN"
      }
    },
    {
      "cell_type": "code",
      "source": [
        "# Gerando tabelas com os dados gerados aleatoriamente\n",
        "X_controle_df = pd.DataFrame(X_grupo_controle, columns=['Notas sem cursinho'])\n",
        "Y_experimental_df = pd.DataFrame(Y_grupo_experimental, columns=['Notas com cursinho'])\n",
        "\n",
        "# Verificando um dado da tabela\n",
        "Y_experimental_df.iloc[1,0]"
      ],
      "metadata": {
        "colab": {
          "base_uri": "https://localhost:8080/"
        },
        "id": "K9d-kEjDUQQY",
        "outputId": "71bb1065-1e7d-49f4-8c2a-189e92d7fe87"
      },
      "execution_count": 4,
      "outputs": [
        {
          "output_type": "execute_result",
          "data": {
            "text/plain": [
              "5.474729152155541"
            ]
          },
          "metadata": {},
          "execution_count": 4
        }
      ]
    },
    {
      "cell_type": "markdown",
      "source": [
        "### Construindo o teste de Wilcoxon de duas amostras\n",
        "Iniciando efetivamente a aplicação do teste Wilcoxon, em primeiro lugar, procuramos verificar se os dados do grupo experimental são predominantemente maiores do que aqueles observados no grupo de controle. Com base neste propósito, a estratégia a ser adotada consiste em contabilizar, para cada valor observado i de Y, a quantos valores observados j de X este i é maior. Tal contagem vai designada como U_mais."
      ],
      "metadata": {
        "id": "7uGGLsNJEtij"
      }
    },
    {
      "cell_type": "code",
      "source": [
        "# Construindo o teste de Wilcoxon\n",
        "U_mais = 0\n",
        "U_menos = 0\n",
        "U_zero = 0\n",
        "\n",
        "for i in range(len(Y_experimental_df)):\n",
        "    for j in range(len(X_controle_df)):\n",
        "        if Y_experimental_df.iloc[i,0] > X_controle_df.iloc[j,0]:\n",
        "            U_mais += 1\n",
        "        else:\n",
        "            if Y_experimental_df.iloc[i,0] < X_controle_df.iloc[j,0]:\n",
        "              U_menos += 1\n",
        "            else:\n",
        "              U_zero += 1\n",
        "\n",
        "# Interpretando etapa inicial\n",
        "if U_mais > U_menos:\n",
        "    print(\"Há alguma evidência de que os cursinhos afetam positivamente a nota dos alunos.\")\n",
        "elif U_mais < U_menos:\n",
        "    print(\"Há alguma evidência de que os cursinhos afetam negativamente a nota dos alunos.\")\n",
        "else:\n",
        "    print(\"Não há evidência de que o cursinho afeta a nota dos estudantes.\")"
      ],
      "metadata": {
        "colab": {
          "base_uri": "https://localhost:8080/"
        },
        "id": "irByMGvgUSxS",
        "outputId": "e4c651ae-3eeb-402b-8371-994356ed9268"
      },
      "execution_count": 17,
      "outputs": [
        {
          "output_type": "stream",
          "name": "stdout",
          "text": [
            "Há alguma evidência de que os cursinhos afetam positivamente a nota dos alunos.\n"
          ]
        }
      ]
    },
    {
      "cell_type": "code",
      "source": [
        "print(U_mais, U_menos, U_zero)"
      ],
      "metadata": {
        "colab": {
          "base_uri": "https://localhost:8080/"
        },
        "id": "JFGHn61_Uxke",
        "outputId": "63a65424-f640-4e54-a09c-63358e898bd9"
      },
      "execution_count": 18,
      "outputs": [
        {
          "output_type": "stream",
          "name": "stdout",
          "text": [
            "647561 352281 158\n"
          ]
        }
      ]
    },
    {
      "cell_type": "markdown",
      "source": [
        "### Validação da Etapa Anterior\n",
        "Com a finalidade de averiguar a correção dos cálculos acima, precisamos garantir que, após a execução das contas, o número de observações iguais entre os grupos seja compatível com o tamanho dos grupos iniciais e o número das demais contagens realizadas."
      ],
      "metadata": {
        "id": "BYhUwzmnGNpZ"
      }
    },
    {
      "cell_type": "code",
      "source": [
        "n = len(Y_experimental_df)\n",
        "m = len(X_controle_df)\n",
        "\n",
        "# Verificando se a etapa precedente foi bem sucedida. (É preciso que resto = U_zero)\n",
        "resto = n * m - (U_mais + U_menos)\n",
        "resto"
      ],
      "metadata": {
        "colab": {
          "base_uri": "https://localhost:8080/"
        },
        "id": "NjQOGbNZXiSg",
        "outputId": "71ccc043-cb79-4bb5-a7fa-6d65280c99e5"
      },
      "execution_count": 19,
      "outputs": [
        {
          "output_type": "execute_result",
          "data": {
            "text/plain": [
              "158"
            ]
          },
          "metadata": {},
          "execution_count": 19
        }
      ]
    },
    {
      "cell_type": "markdown",
      "source": [
        "### Testando a Hipótese\n",
        "Uma vez obtidos os números sobre os quais se baseiam o teste de Wilcoxon, isto é, considerando a quantidade de vezes em que os valores do grupo experimental supera os valores do grupo de controle, bem como o tamanho das amostras, podemos estimar qual a probabilidade de que este aumento dos valores do grupo experimental sejam oriundos do mero acaso ao qual todo procedimento de extrações aleatórias está sujeito. Como resulta desta etapa, vemos que as chances são a tal ponto remotas, que podemos rejeitar a hipótese nula (a saber que o aumento do desempenho seja fruto do acaso)."
      ],
      "metadata": {
        "id": "QIO87yoZHu5n"
      }
    },
    {
      "cell_type": "code",
      "source": [
        "# Criando modelo probabilístico que segue uma distribuição normal\n",
        "mi = (1/2) * m * n\n",
        "sigma = sqrt(m * n * (m + n + 1) /12)\n",
        "\n",
        "distr_norm = stats.norm(loc= mi, scale=sigma)\n",
        "\n",
        "# Definindo qual será a hipótese alternativa: no caso, a hipótese alternativa será Y > X (portanto, U = U_menos)\n",
        "U = U_menos\n",
        "\n",
        "\n",
        "z_valor = (U - mi)/sigma\n",
        "z_valor\n",
        "\n",
        "# Calculando probabilidade acumulada através de uma distribuição normal padrão\n",
        "probabilidade_acumulada = stats.norm.cdf(z_valor)\n",
        "format(probabilidade_acumulada, '.50f') #Verificando o p_valor sem notação científica\n",
        "\n",
        "# Estabelecendo nível de significância\n",
        "alpha = 0.05\n",
        "\n",
        "if probabilidade_acumulada < alpha:\n",
        "  print(\"Como o p-valor resulta menor do que o nível de significância, podemos rejeitar a hipótese nula.\")"
      ],
      "metadata": {
        "id": "JiV6EyQjcEvX"
      },
      "execution_count": null,
      "outputs": []
    }
  ]
}