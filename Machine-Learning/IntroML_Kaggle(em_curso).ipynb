{
 "cells": [
  {
   "cell_type": "markdown",
   "metadata": {},
   "source": [
    "## Introdução ao Machine Learning - Kaggle\n",
    "\n",
    "### Importando Pacotes"
   ]
  },
  {
   "cell_type": "code",
   "execution_count": null,
   "metadata": {},
   "outputs": [],
   "source": [
    "import pandas as pd\n",
    "from sklearn.tree import DecisionTreeRegressor\n",
    "from sklearn.metrics import mean_absolute_error\n",
    "from sklearn.model_selection import train_test_split"
   ]
  },
  {
   "cell_type": "markdown",
   "metadata": {},
   "source": [
    "### Importando os dados"
   ]
  },
  {
   "cell_type": "code",
   "execution_count": null,
   "metadata": {},
   "outputs": [],
   "source": [
    "# colocando o arquivo numa variável para facilitar o acesso\n",
    "melbourb_file_path = 'C:/Users/Fred/OneDrive/Documentos/Datasets/archive/melb_data.csv'\n",
    "\n",
    "# lendo os dados e salvado-os em um DataFrame chamado melbourne_data\n",
    "melbourne_data = pd.read_csv(melbourb_file_path)\n",
    "\n",
    "# mostrando um sumário dos dados em melbourne_data\n",
    "melbourne_data.describe()"
   ]
  },
  {
   "cell_type": "code",
   "execution_count": null,
   "metadata": {},
   "outputs": [],
   "source": [
    "# visualizando todas as colunas da tabela\n",
    "melbourne_data.columns\n",
    "\n",
    "# removendo valores ausentes. axis = 0 linhas com valores ausentes;  axis = 1 remove colunas com valores ausentes.\n",
    "melbourne_data = melbourne_data.dropna(axis= 0)\n",
    "\n",
    "# elegendo alvo da predição, i. e., os valores reais. Por convenção, é nomeado como \"y\"\n",
    "y = melbourne_data.Price\n",
    "\n",
    "# elegendo características/colunas usadas para o modelo de predição\n",
    "melbourne_features = ['Rooms', 'Bathroom', 'Landsize', 'Lattitude', 'Longtitude']\n",
    "\n",
    "# Criando os dados correspondendo às características elegidas. Por convenção, esses dados são chamados X\n",
    "X = melbourne_data[melbourne_features]\n",
    "\n",
    "# verificando\n",
    "X.describe()"
   ]
  },
  {
   "cell_type": "code",
   "execution_count": null,
   "metadata": {},
   "outputs": [],
   "source": [
    "# verificando de outra maneira, mostrando algumas linhas\n",
    "X.head()"
   ]
  },
  {
   "cell_type": "markdown",
   "metadata": {},
   "source": [
    "### Treinando Modelo"
   ]
  },
  {
   "cell_type": "code",
   "execution_count": null,
   "metadata": {},
   "outputs": [],
   "source": [
    "# definindo modelo. random_state=1 garante que o mesmo algoritmo de divisão da árvore de divisão será executado, garantindo os mesmos resultados \n",
    "melbourne_model = DecisionTreeRegressor(random_state=1)\n",
    "\n",
    "# treinar modelo\n",
    "melbourne_model.fit(X, y)"
   ]
  },
  {
   "cell_type": "code",
   "execution_count": null,
   "metadata": {},
   "outputs": [],
   "source": [
    "print('Fazendo predições para as próximas 5 casas:')\n",
    "print(X.head())\n",
    "print('As predições são:')\n",
    "print(melbourne_model.predict(X.head()))"
   ]
  },
  {
   "cell_type": "markdown",
   "metadata": {},
   "source": [
    "### Validação do Modelo\n",
    "Mensurando a qualidade do modelo:\n",
    "Na maioria dos casos, a precisão nas predições é a medida mais relevante para avaliar a qualidade de um modelo.\n",
    "\n",
    "Obs: a performance de um modelo deve ser medida a partir de novos dados, e não sobre os mesmos dados que treinaram o modelo. A estes novos dados chamamos de _Dados de Validação_."
   ]
  },
  {
   "cell_type": "code",
   "execution_count": null,
   "metadata": {},
   "outputs": [],
   "source": [
    "# calculando o erro absoluto médio (MAE)\n",
    "predicted_home_prices = melbourne_model.predict(X)\n",
    "mean_absolute_error(y, predicted_home_prices)"
   ]
  },
  {
   "cell_type": "markdown",
   "metadata": {},
   "source": [
    "Pela função _train_test_split()_ Podemos dividir um conjunto de dados em dois conjuntos distintos. Assim, um pode desempenhar como Dados de Treinamento; ao passo que o outro pode servir de Dados de Validação.\n",
    "\n",
    "a função train_test_split() vai alimentada com:\n",
    "1- conjunto de entrada; \n",
    "2- conjunto de saída; \n",
    "3- random_state para garantir reprodutibilidade"
   ]
  },
  {
   "cell_type": "code",
   "execution_count": null,
   "metadata": {},
   "outputs": [],
   "source": [
    "# dividindo um conjunto de dados  \n",
    "train_X, val_X, train_y, val_y = train_test_split(X, y, random_state = 0)\n",
    "\n",
    "# definindo modelo\n",
    "melbourne_model = DecisionTreeRegressor()\n",
    "\n",
    "# treinando modelo\n",
    "melbourne_model.fit(train_X, train_y)\n",
    "\n",
    "# predizendo preços sobre os Dados de Validação\n",
    "val_predictions = melbourne_model.predict(val_X)\n",
    "print(mean_absolute_error(val_y, val_predictions))"
   ]
  }
 ],
 "metadata": {
  "kernelspec": {
   "display_name": "base",
   "language": "python",
   "name": "python3"
  },
  "language_info": {
   "codemirror_mode": {
    "name": "ipython",
    "version": 3
   },
   "file_extension": ".py",
   "mimetype": "text/x-python",
   "name": "python",
   "nbconvert_exporter": "python",
   "pygments_lexer": "ipython3",
   "version": "3.9.13"
  },
  "orig_nbformat": 4
 },
 "nbformat": 4,
 "nbformat_minor": 2
}
